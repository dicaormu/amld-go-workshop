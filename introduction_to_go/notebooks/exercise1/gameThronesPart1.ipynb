{
 "cells": [
  {
   "cell_type": "code",
   "execution_count": 1,
   "metadata": {},
   "outputs": [],
   "source": [
    "import \"os\"\n",
    "import \"fmt\"\n",
    "import \"encoding/csv\"\n",
    "import \"gonum.org/v1/gonum/blas/blas64\"\n",
    "import \"gonum.org/v1/gonum/mat\"\n",
    "import \"gonum.org/v1/gonum/stat\"\n",
    "import \"gonum.org/v1/plot\"\n",
    "import \"gonum.org/v1/plot/plotter\"\n",
    "import \"gonum.org/v1/plot/plotutil\"\n",
    "import \"gonum.org/v1/plot/vg\"\n",
    "import \"os\"\n",
    "import \"io/ioutil\"\n",
    "import \"strings\"\n",
    "\n",
    "\n"
   ]
  },
  {
   "cell_type": "code",
   "execution_count": 2,
   "metadata": {},
   "outputs": [
    {
     "name": "stdout",
     "output_type": "stream",
     "text": [
      "[PATH=/usr/bin:/usr/local/sbin:/usr/local/bin:/usr/sbin:/usr/bin:/sbin:/bin HOSTNAME=ce868969e41a TERM=xterm CGO_ENABLED=1 CGO_CPPFLAGS=-I/usr/include GOOS=linux GOPATH=/go HOME=/root JPY_PARENT_PID=1]\n"
     ]
    },
    {
     "data": {
      "text/plain": [
       "202 <nil>"
      ]
     },
     "execution_count": 2,
     "metadata": {},
     "output_type": "execute_result"
    }
   ],
   "source": [
    "fmt.Println(os.Environ())"
   ]
  },
  {
   "cell_type": "code",
   "execution_count": null,
   "metadata": {},
   "outputs": [],
   "source": []
  },
  {
   "cell_type": "code",
   "execution_count": 3,
   "metadata": {},
   "outputs": [],
   "source": [
    "file, err := os.Open(\"../../data/5kings_battles_v1.csv\")"
   ]
  },
  {
   "cell_type": "code",
   "execution_count": null,
   "metadata": {},
   "outputs": [],
   "source": []
  },
  {
   "cell_type": "code",
   "execution_count": 4,
   "metadata": {},
   "outputs": [
    {
     "name": "stdout",
     "output_type": "stream",
     "text": [
      "<nil>\n"
     ]
    },
    {
     "data": {
      "text/plain": [
       "6 <nil>"
      ]
     },
     "execution_count": 4,
     "metadata": {},
     "output_type": "execute_result"
    }
   ],
   "source": [
    "fmt.Println(err)"
   ]
  },
  {
   "cell_type": "code",
   "execution_count": 5,
   "metadata": {},
   "outputs": [],
   "source": [
    "gotcsv := csv.NewReader(file)"
   ]
  },
  {
   "cell_type": "code",
   "execution_count": 6,
   "metadata": {},
   "outputs": [
    {
     "name": "stdout",
     "output_type": "stream",
     "text": [
      "<nil>\n"
     ]
    },
    {
     "data": {
      "text/plain": [
       "6 <nil>"
      ]
     },
     "execution_count": 6,
     "metadata": {},
     "output_type": "execute_result"
    }
   ],
   "source": [
    "records, err1 := gotcsv.ReadAll()\n",
    "fmt.Println(err1)"
   ]
  },
  {
   "cell_type": "code",
   "execution_count": 7,
   "metadata": {},
   "outputs": [
    {
     "name": "stdout",
     "output_type": "stream",
     "text": [
      "name \t year : attacker_king defender_king attacker_1\n",
      "Battle of the Golden Tooth \t 298 : Joffrey/Tommen Baratheon Robb Stark Lannister\n",
      "Battle at the Mummer's Ford \t 298 : Joffrey/Tommen Baratheon Robb Stark Lannister\n",
      "Battle of Riverrun \t 298 : Joffrey/Tommen Baratheon Robb Stark Lannister\n",
      "Battle of the Green Fork \t 298 : Robb Stark Joffrey/Tommen Baratheon Stark\n",
      "Battle of the Whispering Wood \t 298 : Robb Stark Joffrey/Tommen Baratheon Stark\n",
      "Battle of the Camps \t 298 : Robb Stark Joffrey/Tommen Baratheon Stark\n",
      "Sack of Darry \t 298 : Joffrey/Tommen Baratheon Robb Stark Lannister\n",
      "Battle of Moat Cailin \t 299 : Balon/Euron Greyjoy Robb Stark Greyjoy\n",
      "Battle of Deepwood Motte \t 299 : Balon/Euron Greyjoy Robb Stark Greyjoy\n",
      "Battle of the Stony Shore \t 299 : Balon/Euron Greyjoy Robb Stark Greyjoy\n",
      "Battle of Torrhen's Square \t 299 : Robb Stark Balon/Euron Greyjoy Stark\n",
      "Battle of Winterfell \t 299 : Balon/Euron Greyjoy Robb Stark Greyjoy\n",
      "Sack of Torrhen's Square \t 299 : Balon/Euron Greyjoy Balon/Euron Greyjoy Greyjoy\n",
      "Sack of Winterfell \t 299 : Joffrey/Tommen Baratheon Robb Stark Bolton\n",
      "Battle of Oxcross \t 299 : Robb Stark Joffrey/Tommen Baratheon Stark\n",
      "Siege of Storm's End \t 299 : Stannis Baratheon Renly Baratheon Baratheon\n",
      "Battle of the Fords \t 299 : Joffrey/Tommen Baratheon Robb Stark Lannister\n",
      "Sack of Harrenhal \t 299 : Robb Stark Joffrey/Tommen Baratheon Stark\n",
      "Battle of the Crag \t 299 : Robb Stark Joffrey/Tommen Baratheon Stark\n",
      "Battle of the Blackwater \t 299 : Stannis Baratheon Joffrey/Tommen Baratheon Baratheon\n",
      "Siege of Darry \t 299 : Robb Stark Joffrey/Tommen Baratheon Darry\n",
      "Battle of Duskendale \t 299 : Robb Stark Joffrey/Tommen Baratheon Stark\n",
      "Battle of the Burning Septry \t 299 :   Brotherhood without Banners\n",
      "Battle of the Ruby Ford \t 299 : Joffrey/Tommen Baratheon Robb Stark Lannister\n",
      "Retaking of Harrenhal \t 299 : Joffrey/Tommen Baratheon  Lannister\n",
      "The Red Wedding \t 299 : Joffrey/Tommen Baratheon Robb Stark Frey\n",
      "Siege of Seagard \t 299 : Robb Stark Joffrey/Tommen Baratheon Frey\n",
      "Battle of Castle Black \t 300 : Stannis Baratheon Mance Rayder Free folk\n",
      "Fall of Moat Cailin \t 300 : Joffrey/Tommen Baratheon Balon/Euron Greyjoy Bolton\n",
      "Sack of Saltpans \t 300 :   Brave Companions\n",
      "Retaking of Deepwood Motte \t 300 : Stannis Baratheon Balon/Euron Greyjoy Baratheon\n",
      "Battle of the Shield Islands \t 300 : Balon/Euron Greyjoy Joffrey/Tommen Baratheon Greyjoy\n",
      "Invasion of Ryamsport, Vinetown, and Starfish Harbor \t 300 : Balon/Euron Greyjoy Joffrey/Tommen Baratheon Greyjoy\n",
      "Second Seige of Storm's End \t 300 : Joffrey/Tommen Baratheon Stannis Baratheon Baratheon\n",
      "Siege of Dragonstone \t 300 : Joffrey/Tommen Baratheon Stannis Baratheon Baratheon\n",
      "Siege of Riverrun \t 300 : Joffrey/Tommen Baratheon Robb Stark Lannister\n",
      "Siege of Raventree \t 300 : Joffrey/Tommen Baratheon Robb Stark Bracken\n",
      "Siege of Winterfell \t 300 : Stannis Baratheon Joffrey/Tommen Baratheon Baratheon\n"
     ]
    }
   ],
   "source": [
    "for _, record := range records {\n",
    "    fmt.Println(record[0],\"\\t\",record[1],\":\",record[3],record[4],record[5])\n",
    "\t\t\n",
    "\t}"
   ]
  },
  {
   "cell_type": "code",
   "execution_count": 8,
   "metadata": {},
   "outputs": [],
   "source": [
    "file.Close()"
   ]
  },
  {
   "cell_type": "code",
   "execution_count": 9,
   "metadata": {},
   "outputs": [
    {
     "name": "stdout",
     "output_type": "stream",
     "text": [
      "[name year battle_number attacker_king defender_king attacker_1 attacker_2 attacker_3 attacker_4 defender_1 defender_2 attacker_outcome battle_type major_death major_capture attacker_size defender_size attacker_commander defender_commander summer location region note]\n"
     ]
    },
    {
     "data": {
      "text/plain": [
       "269 <nil>"
      ]
     },
     "execution_count": 9,
     "metadata": {},
     "output_type": "execute_result"
    }
   ],
   "source": [
    "fmt.Println(records[0])"
   ]
  },
  {
   "cell_type": "code",
   "execution_count": 10,
   "metadata": {},
   "outputs": [],
   "source": [
    "func  transpose(matrix [][]string) [][]string {\n",
    "    r := make([][]string, len(matrix[0])) //39 \n",
    "    for index,_ :=range r{\n",
    "        r[index] = make([]string, len(matrix))\n",
    "    }\n",
    "    for fv, f := range matrix {\n",
    "        for cv, c :=range f {\n",
    "            r[cv][fv] = c\n",
    "        }\n",
    "    }\n",
    "    return r\n",
    "}"
   ]
  },
  {
   "cell_type": "code",
   "execution_count": 11,
   "metadata": {},
   "outputs": [],
   "source": [
    "t:=transpose(records)"
   ]
  },
  {
   "cell_type": "code",
   "execution_count": 12,
   "metadata": {},
   "outputs": [
    {
     "name": "stdout",
     "output_type": "stream",
     "text": [
      "39\n"
     ]
    },
    {
     "data": {
      "text/plain": [
       "3 <nil>"
      ]
     },
     "execution_count": 12,
     "metadata": {},
     "output_type": "execute_result"
    }
   ],
   "source": [
    "fmt.Println(len(records))"
   ]
  },
  {
   "cell_type": "code",
   "execution_count": 13,
   "metadata": {},
   "outputs": [
    {
     "name": "stdout",
     "output_type": "stream",
     "text": [
      "[name Battle of the Golden Tooth Battle at the Mummer's Ford Battle of Riverrun Battle of the Green Fork Battle of the Whispering Wood Battle of the Camps Sack of Darry Battle of Moat Cailin Battle of Deepwood Motte Battle of the Stony Shore Battle of Torrhen's Square Battle of Winterfell Sack of Torrhen's Square Sack of Winterfell Battle of Oxcross Siege of Storm's End Battle of the Fords Sack of Harrenhal Battle of the Crag Battle of the Blackwater Siege of Darry Battle of Duskendale Battle of the Burning Septry Battle of the Ruby Ford Retaking of Harrenhal The Red Wedding Siege of Seagard Battle of Castle Black Fall of Moat Cailin Sack of Saltpans Retaking of Deepwood Motte Battle of the Shield Islands Invasion of Ryamsport, Vinetown, and Starfish Harbor Second Seige of Storm's End Siege of Dragonstone Siege of Riverrun Siege of Raventree Siege of Winterfell]\n"
     ]
    },
    {
     "data": {
      "text/plain": [
       "875 <nil>"
      ]
     },
     "execution_count": 13,
     "metadata": {},
     "output_type": "execute_result"
    }
   ],
   "source": [
    "fmt.Println(t[0])"
   ]
  },
  {
   "cell_type": "markdown",
   "metadata": {},
   "source": [
    "# Exploratory Data Analysis"
   ]
  },
  {
   "cell_type": "markdown",
   "metadata": {},
   "source": [
    "## Which year had the most battles?"
   ]
  },
  {
   "cell_type": "markdown",
   "metadata": {},
   "source": [
    "### Count the number of observations for each value"
   ]
  },
  {
   "cell_type": "code",
   "execution_count": 14,
   "metadata": {},
   "outputs": [
    {
     "name": "stdout",
     "output_type": "stream",
     "text": [
      "[298 298 298 298 298 298 298 299 299 299 299 299 299 299 299 299 299 299 299 299 299 299 299 299 299 299 299 300 300 300 300 300 300 300 300 300 300 300]\n"
     ]
    },
    {
     "data": {
      "text/plain": [
       "154 <nil>"
      ]
     },
     "execution_count": 14,
     "metadata": {},
     "output_type": "execute_result"
    }
   ],
   "source": [
    "fmt.Println(t[1][1:])"
   ]
  },
  {
   "cell_type": "code",
   "execution_count": 15,
   "metadata": {},
   "outputs": [],
   "source": [
    "func countObservations(vector []string )map[string]int{\n",
    "    freq := make(map[string]int)\n",
    "    for _, item := range vector{\n",
    "        freq[item]++\n",
    "    }\n",
    "    return freq\n",
    "}"
   ]
  },
  {
   "cell_type": "code",
   "execution_count": 16,
   "metadata": {},
   "outputs": [],
   "source": [
    "yearCount := countObservations(t[1][1:])"
   ]
  },
  {
   "cell_type": "code",
   "execution_count": 17,
   "metadata": {},
   "outputs": [
    {
     "name": "stdout",
     "output_type": "stream",
     "text": [
      "map[298:7 299:20 300:11]\n"
     ]
    },
    {
     "data": {
      "text/plain": [
       "25 <nil>"
      ]
     },
     "execution_count": 17,
     "metadata": {},
     "output_type": "execute_result"
    }
   ],
   "source": [
    "fmt.Println(yearCount)"
   ]
  },
  {
   "cell_type": "markdown",
   "metadata": {},
   "source": [
    "## Which region had the most battles?"
   ]
  },
  {
   "cell_type": "markdown",
   "metadata": {},
   "source": [
    "### Count the number of observations for each value, then make a bar plot"
   ]
  },
  {
   "cell_type": "code",
   "execution_count": 18,
   "metadata": {},
   "outputs": [],
   "source": [
    "regionCount := countObservations(t[21][1:])"
   ]
  },
  {
   "cell_type": "code",
   "execution_count": 19,
   "metadata": {},
   "outputs": [
    {
     "name": "stdout",
     "output_type": "stream",
     "text": [
      "map[The Riverlands:17 The North:10 The Stormlands:3 The Crownlands:2 Beyond the Wall:1 The Reach:2 The Westerlands:3]\n"
     ]
    },
    {
     "data": {
      "text/plain": [
       "118 <nil>"
      ]
     },
     "execution_count": 19,
     "metadata": {},
     "output_type": "execute_result"
    }
   ],
   "source": [
    "fmt.Println(regionCount)"
   ]
  },
  {
   "cell_type": "code",
   "execution_count": 20,
   "metadata": {},
   "outputs": [],
   "source": [
    "p, err := plot.New()"
   ]
  },
  {
   "cell_type": "code",
   "execution_count": 21,
   "metadata": {},
   "outputs": [
    {
     "name": "stdout",
     "output_type": "stream",
     "text": [
      "<nil>\n"
     ]
    },
    {
     "data": {
      "text/plain": [
       "6 <nil>"
      ]
     },
     "execution_count": 21,
     "metadata": {},
     "output_type": "execute_result"
    }
   ],
   "source": [
    "fmt.Println(err)"
   ]
  },
  {
   "cell_type": "code",
   "execution_count": 22,
   "metadata": {},
   "outputs": [],
   "source": [
    "p.Title.Text = \"observations for each value\"\n",
    "\tp.Y.Label.Text = \"count\""
   ]
  },
  {
   "cell_type": "code",
   "execution_count": 23,
   "metadata": {},
   "outputs": [],
   "source": [
    "func splitKeysAndValues(mapData map[string]int)([]string,plotter.Values){\n",
    "    values := make(plotter.Values, len(mapData))\n",
    "    keys := make([]string, len(mapData))\n",
    "    idx := 0\n",
    "    for  key, value := range mapData {\n",
    "        values[idx] = float64(value)\n",
    "        keys[idx] = strings.Replace(key,\" \",\"\\n\",-1)\n",
    "           idx++\n",
    "    }\n",
    "    return keys,values\n",
    "}"
   ]
  },
  {
   "cell_type": "code",
   "execution_count": 24,
   "metadata": {},
   "outputs": [],
   "source": [
    "keys,values := splitKeysAndValues(regionCount)"
   ]
  },
  {
   "cell_type": "code",
   "execution_count": null,
   "metadata": {},
   "outputs": [],
   "source": []
  },
  {
   "cell_type": "code",
   "execution_count": 25,
   "metadata": {},
   "outputs": [
    {
     "name": "stdout",
     "output_type": "stream",
     "text": [
      "[2 1 2 3 17 10 3]\n"
     ]
    },
    {
     "data": {
      "text/plain": [
       "18 <nil>"
      ]
     },
     "execution_count": 25,
     "metadata": {},
     "output_type": "execute_result"
    }
   ],
   "source": [
    "fmt.Println(values)"
   ]
  },
  {
   "cell_type": "code",
   "execution_count": 26,
   "metadata": {},
   "outputs": [
    {
     "name": "stdout",
     "output_type": "stream",
     "text": [
      "[The\n",
      "Crownlands Beyond\n",
      "the\n",
      "Wall The\n",
      "Reach The\n",
      "Westerlands The\n",
      "Riverlands The\n",
      "North The\n",
      "Stormlands]\n"
     ]
    },
    {
     "data": {
      "text/plain": [
       "99 <nil>"
      ]
     },
     "execution_count": 26,
     "metadata": {},
     "output_type": "execute_result"
    }
   ],
   "source": [
    "fmt.Println(keys)"
   ]
  },
  {
   "cell_type": "code",
   "execution_count": null,
   "metadata": {},
   "outputs": [],
   "source": []
  },
  {
   "cell_type": "code",
   "execution_count": 27,
   "metadata": {},
   "outputs": [],
   "source": [
    "w := vg.Points(20)"
   ]
  },
  {
   "cell_type": "code",
   "execution_count": 28,
   "metadata": {},
   "outputs": [],
   "source": [
    "barsA, err := plotter.NewBarChart(values, w)\n",
    "\tif err != nil {\n",
    "\t\tpanic(err)\n",
    "\t}"
   ]
  },
  {
   "cell_type": "code",
   "execution_count": 29,
   "metadata": {},
   "outputs": [],
   "source": [
    "p.Add(barsA)"
   ]
  },
  {
   "cell_type": "code",
   "execution_count": 30,
   "metadata": {},
   "outputs": [],
   "source": [
    "p.NominalX(keys...)"
   ]
  },
  {
   "cell_type": "code",
   "execution_count": 31,
   "metadata": {},
   "outputs": [],
   "source": [
    "if err := p.Save(5*vg.Inch, 3*vg.Inch, \"barchart3.png\"); err != nil {\n",
    "\t\tpanic(err)\n",
    "\t}"
   ]
  },
  {
   "cell_type": "code",
   "execution_count": null,
   "metadata": {},
   "outputs": [],
   "source": []
  },
  {
   "cell_type": "code",
   "execution_count": 32,
   "metadata": {},
   "outputs": [],
   "source": [
    "func getGraph(graphName string)[]byte{\n",
    "    infile, err := os.Open(graphName)\n",
    "\tbytes, err := ioutil.ReadAll(infile)\n",
    "\tinfile.Close()\n",
    "    return bytes\n",
    "}"
   ]
  },
  {
   "cell_type": "code",
   "execution_count": 33,
   "metadata": {},
   "outputs": [],
   "source": [
    "graph:=getGraph(\"barchart3.png\")"
   ]
  },
  {
   "cell_type": "code",
   "execution_count": 34,
   "metadata": {},
   "outputs": [
    {
     "data": {
      "image/png": "[encoded data removed]",
      "text/plain": [
       "png image"
      ]
     },
     "execution_count": 34,
     "metadata": {},
     "output_type": "execute_result"
    }
   ],
   "source": [
    "display.PNG(graph)"
   ]
  },
  {
   "cell_type": "markdown",
   "metadata": {},
   "source": [
    "## Is there any relationship between troop size and battle outcome?"
   ]
  },
  {
   "cell_type": "markdown",
   "metadata": {},
   "source": [
    "### Create a ggplot scatter plot of attacker_size against defender_size (if not NaN), \n",
    "### with the color of each dot being determined by the outcome of the battle"
   ]
  },
  {
   "cell_type": "code",
   "execution_count": 35,
   "metadata": {},
   "outputs": [
    {
     "name": "stdout",
     "output_type": "stream",
     "text": [
      "[[name Battle of the Golden Tooth Battle at the Mummer's Ford Battle of Riverrun Battle of the Green Fork Battle of the Whispering Wood Battle of the Camps Sack of Darry Battle of Moat Cailin Battle of Deepwood Motte Battle of the Stony Shore Battle of Torrhen's Square Battle of Winterfell Sack of Torrhen's Square Sack of Winterfell Battle of Oxcross Siege of Storm's End Battle of the Fords Sack of Harrenhal Battle of the Crag Battle of the Blackwater Siege of Darry Battle of Duskendale Battle of the Burning Septry Battle of the Ruby Ford Retaking of Harrenhal The Red Wedding Siege of Seagard Battle of Castle Black Fall of Moat Cailin Sack of Saltpans Retaking of Deepwood Motte Battle of the Shield Islands Invasion of Ryamsport, Vinetown, and Starfish Harbor Second Seige of Storm's End Siege of Dragonstone Siege of Riverrun Siege of Raventree Siege of Winterfell] [year 298 298 298 298 298 298 298 299 299 299 299 299 299 299 299 299 299 299 299 299 299 299 299 299 299 299 299 300 300 300 300 300 300 300 300 300 300 300] [battle_number 1 2 3 4 5 6 7 8 9 10 11 12 13 14 15 16 17 18 19 20 21 22 23 24 25 26 27 28 29 30 31 32 33 34 35 36 37 38] [attacker_king Joffrey/Tommen Baratheon Joffrey/Tommen Baratheon Joffrey/Tommen Baratheon Robb Stark Robb Stark Robb Stark Joffrey/Tommen Baratheon Balon/Euron Greyjoy Balon/Euron Greyjoy Balon/Euron Greyjoy Robb Stark Balon/Euron Greyjoy Balon/Euron Greyjoy Joffrey/Tommen Baratheon Robb Stark Stannis Baratheon Joffrey/Tommen Baratheon Robb Stark Robb Stark Stannis Baratheon Robb Stark Robb Stark  Joffrey/Tommen Baratheon Joffrey/Tommen Baratheon Joffrey/Tommen Baratheon Robb Stark Stannis Baratheon Joffrey/Tommen Baratheon  Stannis Baratheon Balon/Euron Greyjoy Balon/Euron Greyjoy Joffrey/Tommen Baratheon Joffrey/Tommen Baratheon Joffrey/Tommen Baratheon Joffrey/Tommen Baratheon Stannis Baratheon] [defender_king Robb Stark Robb Stark Robb Stark Joffrey/Tommen Baratheon Joffrey/Tommen Baratheon Joffrey/Tommen Baratheon Robb Stark Robb Stark Robb Stark Robb Stark Balon/Euron Greyjoy Robb Stark Balon/Euron Greyjoy Robb Stark Joffrey/Tommen Baratheon Renly Baratheon Robb Stark Joffrey/Tommen Baratheon Joffrey/Tommen Baratheon Joffrey/Tommen Baratheon Joffrey/Tommen Baratheon Joffrey/Tommen Baratheon  Robb Stark  Robb Stark Joffrey/Tommen Baratheon Mance Rayder Balon/Euron Greyjoy  Balon/Euron Greyjoy Joffrey/Tommen Baratheon Joffrey/Tommen Baratheon Stannis Baratheon Stannis Baratheon Robb Stark Robb Stark Joffrey/Tommen Baratheon] [attacker_1 Lannister Lannister Lannister Stark Stark Stark Lannister Greyjoy Greyjoy Greyjoy Stark Greyjoy Greyjoy Bolton Stark Baratheon Lannister Stark Stark Baratheon Darry Stark Brotherhood without Banners Lannister Lannister Frey Frey Free folk Bolton Brave Companions Baratheon Greyjoy Greyjoy Baratheon Baratheon Lannister Bracken Baratheon] [attacker_2     Tully Tully        Greyjoy Tully           Bolton  Thenns   Karstark     Frey Lannister Karstark] [attacker_3                            Giants   Mormont       Mormont] [attacker_4                               Glover       Glover] [defender_1 Tully Baratheon Tully Lannister Lannister Lannister Darry Stark Stark Stark Greyjoy Stark Stark Stark Lannister Baratheon Tully Lannister Lannister Lannister Lannister Lannister Brave Companions Stark Brave Companions Stark Mallister Night's Watch Greyjoy  Greyjoy Tyrell Tyrell Baratheon Baratheon Tully Blackwood Bolton] [defender_2                            Baratheon          Frey] [attacker_outcome win win win loss win win win win win win win win win win win win loss win win loss win loss win win win win win loss win win win win win win win win win ] [battle_type pitched battle ambush pitched battle pitched battle ambush ambush pitched battle pitched battle siege ambush pitched battle ambush siege ambush ambush siege pitched battle ambush ambush pitched battle siege pitched battle pitched battle pitched battle pitched battle ambush siege siege siege razing pitched battle pitched battle razing siege siege siege siege ] [major_death 1 1 0 1 1 0 0 0 0 0 0 0 0 1 1 1 0 1 0 1 0 1 0 0 1 1 0 1 0 0 0 0 0 0 0 0 0 ] [major_capture 0 0 1 1 1 0 0 0 0 0 0 1 1 0 1 0 0 0 0 1 0 0 0 0 0 1 1 1 0 0 0 0 0 0 0 0 1 ] [attacker_size 15000  15000 18000 1875 6000   1000 264 244 20  618 6000 5000 20000 100 6000 21000  3000    3500  100000   4500    2000 3000 1500 5000] [defender_size 4000 120 10000 20000 6000 12625     900   2000 10000 20000 10000 100  7250    6000  3500  1240   200   200    8000] [attacker_commander Jaime Lannister Gregor Clegane Jaime Lannister, Andros Brax Roose Bolton, Wylis Manderly, Medger Cerwyn, Harrion Karstark, Halys Hornwood Robb Stark, Brynden Tully Robb Stark, Tytos Blackwood, Brynden Tully Gregor Clegane Victarion Greyjoy Asha Greyjoy Theon Greyjoy Rodrik Cassel, Cley Cerwyn Theon Greyjoy Dagmer Cleftjaw Ramsay Snow, Theon Greyjoy  Robb Stark, Brynden Tully Stannis Baratheon, Davos Seaworth Tywin Lannister, Flement Brax, Gregor Clegane, Addam Marbrand, Lyle Crakehall, Leo Lefford Roose Bolton, Vargo Hoat, Robett Glover Robb Stark, Smalljon Umber, Black Walder Frey Stannis Baratheon, Imry Florent, Guyard Morrigen, Rolland Storm, Salladhor Saan, Davos Seaworth Helman Tallhart Robertt Glover, Helman Tallhart  Gregor Clegane Gregor Clegane Walder Frey, Roose Bolton, Walder Rivers Walder Frey Mance Rayder, Tormund Giantsbane, Harma Dogshead, Magnar Styr, Varamyr Ramsey Bolton Rorge Stannis Baratheon, Alysane Mormot Euron Greyjoy, Victarion Greyjoy Euron Greyjoy, Victarion Greyjoy Mace Tyrell, Mathis Rowan Loras Tyrell, Raxter Redwyne Daven Lannister, Ryman Fey, Jaime Lannister Jonos Bracken, Jaime Lannister Stannis Baratheon] [defender_commander Clement Piper, Vance Beric Dondarrion Edmure Tully, Tytos Blackwood Tywin Lannister, Gregor Clegane, Kevan Lannister, Addam Marbrand Jaime Lannister Lord Andros Brax, Forley Prester Lyman Darry    Dagmer Cleftjaw Bran Stark  Rodrik Cassel, Cley Cerwyn, Leobald Tallhart Stafford Lannister, Roland Crakehall, Antario Jast Renly Baratheon, Cortnay Penrose, Loras Tyrell, Randyll Tarly, Mathis Rowan Edmure Tully, Jason Mallister, Karyl Vance Amory Lorch Rolph Spicer Tyrion Lannister, Jacelyn Bywater, Sandor Clegane, Tywin Lannister, Garlan Tyrell, Mace Tyrell, Randyll Tarly  Randyll Tarly, Gregor Clegane  Roose Bolton, Wylis Manderly Vargo Hoat Robb Stark Jason Mallister Stannis Baratheon, Jon Snow, Donal Noye, Cotter Pyke   Asha Greyjoy   Gilbert Farring Rolland Storm Brynden Tully Tytos Blackwood Roose Bolton] [summer 1 1 1 1 1 1 1 1 1 1 1 1 1 1 1 1 1 1 1 1 1 1 1  1 1 1 0 0 0 0 0 0 0 0 0 0 0] [location Golden Tooth Mummer's Ford Riverrun Green Fork Whispering Wood Riverrun Darry Moat Cailin Deepwood Motte Stony Shore Torrhen's Square Winterfell Torrhen's Square Winterfell Oxcross Storm's End Red Fork Harrenhal Crag King's Landing Darry Duskendale  Ruby Ford Harrenhal The Twins Seagard Castle Black Moat Cailin Saltpans Deepwood Motte Shield Islands Ryamsport, Vinetown, Starfish Harbor Storm's End Dragonstone Riverrun Raventree Winterfell] [region The Westerlands The Riverlands The Riverlands The Riverlands The Riverlands The Riverlands The Riverlands The North The North The North The North The North The North The North The Westerlands The Stormlands The Riverlands The Riverlands The Westerlands The Crownlands The Riverlands The Crownlands The Riverlands The Riverlands The Riverlands The Riverlands The Riverlands Beyond the Wall The North The Riverlands The North The Reach The Reach The Stormlands The Stormlands The Riverlands The Riverlands The North] [note          Greyjoy's troop number based on the Battle of Deepwood Motte, in which Asha had 1000 soldier on 30 longships. That comes out to ~33 per longship. In the Battle of the Stony Shore, Theon has 8 longships, and just we can estimate that he has 8*33 =265 troops. Greyjoy's troop number comes from the 264 estimate to have arrived on the stony shore minus the 20 Theon takes to attack Winterfell. Thus 264-20=244 It isn't mentioned how many Stark men are left in Winterfell, other than \"very few\".  Since House Bolton betrays the Starks for House Lannister, we code this battle as between these two houses. Greyjoy men, numbering only 20, don't play a major part in the fighting and end up dying anyway.            This observation refers to the battle against the Stark men, not the attack on the wedding            ]]\n"
     ]
    },
    {
     "data": {
      "text/plain": [
       "8419 <nil>"
      ]
     },
     "execution_count": 35,
     "metadata": {},
     "output_type": "execute_result"
    }
   ],
   "source": [
    "fmt.Println(t)"
   ]
  },
  {
   "cell_type": "code",
   "execution_count": 36,
   "metadata": {},
   "outputs": [],
   "source": [
    "attackerSize := t[15][1:]"
   ]
  },
  {
   "cell_type": "code",
   "execution_count": 37,
   "metadata": {},
   "outputs": [],
   "source": [
    "deffenderSize := t[16][1:]"
   ]
  },
  {
   "cell_type": "code",
   "execution_count": 38,
   "metadata": {},
   "outputs": [
    {
     "name": "stdout",
     "output_type": "stream",
     "text": [
      "[15000  15000 18000 1875 6000   1000 264 244 20  618 6000 5000 20000 100 6000 21000  3000    3500  100000   4500    2000 3000 1500 5000]\n"
     ]
    },
    {
     "data": {
      "text/plain": [
       "137 <nil>"
      ]
     },
     "execution_count": 38,
     "metadata": {},
     "output_type": "execute_result"
    }
   ],
   "source": [
    "fmt.Println(attackerSize)"
   ]
  },
  {
   "cell_type": "code",
   "execution_count": 39,
   "metadata": {},
   "outputs": [
    {
     "name": "stdout",
     "output_type": "stream",
     "text": [
      "[4000 120 10000 20000 6000 12625     900   2000 10000 20000 10000 100  7250    6000  3500  1240   200   200    8000]\n"
     ]
    },
    {
     "data": {
      "text/plain": [
       "117 <nil>"
      ]
     },
     "execution_count": 39,
     "metadata": {},
     "output_type": "execute_result"
    }
   ],
   "source": [
    "fmt.Println(deffenderSize)"
   ]
  },
  {
   "cell_type": "code",
   "execution_count": 40,
   "metadata": {},
   "outputs": [],
   "source": [
    "attackerOutcome :=t[11][1:]"
   ]
  },
  {
   "cell_type": "code",
   "execution_count": 41,
   "metadata": {},
   "outputs": [
    {
     "name": "stdout",
     "output_type": "stream",
     "text": [
      "[win win win loss win win win win win win win win win win win win loss win win loss win loss win win win win win loss win win win win win win win win win ]\n"
     ]
    },
    {
     "data": {
      "text/plain": [
       "156 <nil>"
      ]
     },
     "execution_count": 41,
     "metadata": {},
     "output_type": "execute_result"
    }
   ],
   "source": [
    "fmt.Println(attackerOutcome)"
   ]
  },
  {
   "cell_type": "code",
   "execution_count": 42,
   "metadata": {},
   "outputs": [],
   "source": [
    "var attackerWins [2][]string\n",
    "var attackerLose [2][]string\n",
    "attackerWins[0] = make([]string, len(attackerOutcome))\n",
    "attackerWins[1] = make([]string, len(attackerOutcome))\n",
    "attackerLose[0] = make([]string, len(attackerOutcome))\n",
    "attackerLose[1] = make([]string, len(attackerOutcome))\n",
    "atwins :=0\n",
    "atLose := 0\n",
    "for i,val := range attackerOutcome {\n",
    "    if val==\"win\"{\n",
    "        attackerWins[0][atwins]=attackerSize[i]\n",
    "        attackerWins[1][atwins]=deffenderSize[i]\n",
    "        atwins++\n",
    "    }else{\n",
    "        attackerLose[0][atLose]=attackerSize[i]\n",
    "        attackerLose[1][atLose]=deffenderSize[i]\n",
    "        atLose++\n",
    "    }\n",
    "}"
   ]
  },
  {
   "cell_type": "code",
   "execution_count": 43,
   "metadata": {},
   "outputs": [],
   "source": [
    "troopvsoutcome, err := plot.New()"
   ]
  },
  {
   "cell_type": "code",
   "execution_count": 44,
   "metadata": {},
   "outputs": [],
   "source": [
    "troopvsoutcome.Title.Text = \"relationship between troop size and battle outcome\"\n",
    "\ttroopvsoutcome.Y.Label.Text = \"attacker size\"\n",
    "\ttroopvsoutcome.X.Label.Text = \"defffender size\""
   ]
  },
  {
   "cell_type": "code",
   "execution_count": 45,
   "metadata": {},
   "outputs": [],
   "source": [
    "troopvsoutcome.Add(plotter.NewGrid())"
   ]
  },
  {
   "cell_type": "code",
   "execution_count": 46,
   "metadata": {},
   "outputs": [],
   "source": [
    "import \"strconv\"\n",
    "import \"image/color\""
   ]
  },
  {
   "cell_type": "code",
   "execution_count": 47,
   "metadata": {},
   "outputs": [
    {
     "name": "stdout",
     "output_type": "stream",
     "text": [
      "// warning: expression returns 2 values, using only the first one: [float64 error]\n",
      "// warning: expression returns 2 values, using only the first one: [float64 error]\n"
     ]
    }
   ],
   "source": [
    "func attackerVsDeffenderSize(ndeffender []string, natacker []string) plotter.XYs {\n",
    "    pts := make(plotter.XYs, len(ndeffender))\n",
    "\tfor i := range pts {\n",
    "        if ndeffender[i] == \"\"{\n",
    "            ndeffender[i]=\"0\"\n",
    "        }\n",
    "        if natacker[i] == \"\"{\n",
    "            natacker[i]=\"0\"\n",
    "        }\n",
    "        pts[i].X = strconv.ParseFloat(ndeffender[i], 64)\n",
    "        pts[i].Y = strconv.ParseFloat(natacker[i], 64)\n",
    "\t}\n",
    "\treturn pts\n",
    "}"
   ]
  },
  {
   "cell_type": "code",
   "execution_count": null,
   "metadata": {},
   "outputs": [],
   "source": []
  },
  {
   "cell_type": "code",
   "execution_count": 48,
   "metadata": {},
   "outputs": [
    {
     "name": "stdout",
     "output_type": "stream",
     "text": [
      "<nil>\n"
     ]
    }
   ],
   "source": [
    "s, err := plotter.NewScatter(attackerVsDeffenderSize(attackerWins[1],attackerWins[0]))\n",
    "fmt.Println(err)\n",
    "\ts.GlyphStyle.Color = color.RGBA{R: 255, B: 128, A: 255}"
   ]
  },
  {
   "cell_type": "code",
   "execution_count": null,
   "metadata": {},
   "outputs": [],
   "source": []
  },
  {
   "cell_type": "code",
   "execution_count": 49,
   "metadata": {},
   "outputs": [
    {
     "name": "stdout",
     "output_type": "stream",
     "text": [
      "<nil>\n"
     ]
    }
   ],
   "source": [
    "s1, err := plotter.NewScatter(attackerVsDeffenderSize(attackerLose[1],attackerLose[0]))\n",
    "fmt.Println(err)\n",
    "\ts1.GlyphStyle.Color = color.RGBA{R: 0, B: 128, A: 255}"
   ]
  },
  {
   "cell_type": "code",
   "execution_count": 50,
   "metadata": {},
   "outputs": [],
   "source": [
    "troopvsoutcome.Add(s,s1)"
   ]
  },
  {
   "cell_type": "code",
   "execution_count": null,
   "metadata": {},
   "outputs": [],
   "source": []
  },
  {
   "cell_type": "code",
   "execution_count": 51,
   "metadata": {},
   "outputs": [],
   "source": [
    "if err := troopvsoutcome.Save(4*vg.Inch, 4*vg.Inch, \"points.png\"); err != nil {\n",
    "\t\tpanic(err)\n",
    "\t}"
   ]
  },
  {
   "cell_type": "code",
   "execution_count": 52,
   "metadata": {},
   "outputs": [],
   "source": [
    "graph1:=getGraph(\"points.png\")"
   ]
  },
  {
   "cell_type": "code",
   "execution_count": null,
   "metadata": {},
   "outputs": [],
   "source": []
  },
  {
   "cell_type": "code",
   "execution_count": 53,
   "metadata": {},
   "outputs": [
    {
     "data": {
      "image/png": "[encoded data removed]",
      "text/plain": [
       "png image"
      ]
     },
     "execution_count": 53,
     "metadata": {},
     "output_type": "execute_result"
    }
   ],
   "source": [
    "display.PNG(graph1)"
   ]
  },
  {
   "cell_type": "code",
   "execution_count": null,
   "metadata": {},
   "outputs": [],
   "source": []
  }
 ],
 "metadata": {
  "kernelspec": {
   "display_name": "Go",
   "language": "go",
   "name": "gophernotes"
  },
  "language_info": {
   "codemirror_mode": "",
   "file_extension": ".go",
   "mimetype": "",
   "name": "go",
   "nbconvert_exporter": "",
   "pygments_lexer": "",
   "version": "go1.10.1"
  }
 },
 "nbformat": 4,
 "nbformat_minor": 2
}
